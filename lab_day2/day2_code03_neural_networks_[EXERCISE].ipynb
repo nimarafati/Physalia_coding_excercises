{
  "nbformat": 4,
  "nbformat_minor": 0,
  "metadata": {
    "colab": {
      "provenance": [],
      "collapsed_sections": [],
      "include_colab_link": true
    },
    "kernelspec": {
      "name": "python3",
      "display_name": "Python 3"
    },
    "accelerator": "GPU"
  },
  "cells": [
    {
      "cell_type": "markdown",
      "metadata": {
        "id": "view-in-github",
        "colab_type": "text"
      },
      "source": [
        "<a href=\"https://colab.research.google.com/github/nimarafati/Physalia_coding_excercises/blob/master/day2_code03_neural_networks_%5BEXERCISE%5D.ipynb\" target=\"_parent\"><img src=\"https://colab.research.google.com/assets/colab-badge.svg\" alt=\"Open In Colab\"/></a>"
      ]
    },
    {
      "cell_type": "markdown",
      "metadata": {
        "id": "Yt_A6nW4nnWl"
      },
      "source": [
        "## Neural networks models: practicals\n",
        "\n",
        "In this notebook you will practice simple neural networks models for classification. \n",
        "We will be using the `breast cancer` dataset:\n",
        "\n",
        "- binary classification problem: breast cancer diagnosis, `0`: `malignant`, `1`: `benign`\n",
        "- EDA: look at the data\n",
        "- split between the training and the test sets\n",
        "- number of hidden layers\n",
        "- number of nodes within layers\n",
        "- type of activation functions in the hidden layers\n",
        "- number of epochs\n",
        "- number of features to include in the model\n",
        "- etc.\n",
        "\n",
        "Let's start by importing some basic libraries and the data:"
      ]
    },
    {
      "cell_type": "code",
      "metadata": {
        "id": "zec9A2Dzm6QO"
      },
      "source": [
        "## import libraries\n",
        "import numpy as np\n",
        "import tensorflow as tf\n",
        "import pandas as pd\n",
        "import sklearn.datasets\n",
        "import matplotlib.pyplot as plt"
      ],
      "execution_count": 1,
      "outputs": []
    },
    {
      "cell_type": "code",
      "metadata": {
        "id": "xBOQi0uFoTbO",
        "colab": {
          "base_uri": "https://localhost:8080/"
        },
        "outputId": "38d28359-60d2-4738-8b78-c17bcf3d7ead"
      },
      "source": [
        "from sklearn.datasets import load_breast_cancer\n",
        "bcancer = load_breast_cancer()\n",
        "y = bcancer.target\n",
        "X = bcancer.data\n",
        "y.shape"
      ],
      "execution_count": 2,
      "outputs": [
        {
          "output_type": "execute_result",
          "data": {
            "text/plain": [
              "(569,)"
            ]
          },
          "metadata": {},
          "execution_count": 2
        }
      ]
    },
    {
      "cell_type": "code",
      "metadata": {
        "id": "7J4XGVk7r2JX",
        "colab": {
          "base_uri": "https://localhost:8080/"
        },
        "outputId": "0b3806c8-ed8b-4173-c4b6-b835f8473cd4"
      },
      "source": [
        "from collections import Counter\n",
        "print(Counter(y))"
      ],
      "execution_count": 3,
      "outputs": [
        {
          "output_type": "stream",
          "name": "stdout",
          "text": [
            "Counter({1: 357, 0: 212})\n"
          ]
        }
      ]
    },
    {
      "cell_type": "code",
      "metadata": {
        "id": "S9AU65sTF9Pn"
      },
      "source": [
        "print(bcancer.DESCR)"
      ],
      "execution_count": null,
      "outputs": []
    },
    {
      "cell_type": "markdown",
      "metadata": {
        "id": "8NqJqw5OGIgc"
      },
      "source": [
        "It's now your turn to go on with the exercise:\n",
        "\n",
        "1. explore the data\n",
        "2. prepare the data (e.g. should we normalize the data?)\n",
        "3. split the data into training and validation sets\n",
        "4. define the neural network model\n",
        "5. train the model\n",
        "6. evaluate model performance"
      ]
    },
    {
      "cell_type": "markdown",
      "source": [
        "# Features"
      ],
      "metadata": {
        "id": "QSqjfkBR1eAU"
      }
    },
    {
      "cell_type": "code",
      "metadata": {
        "id": "9pkijw8ksdF5",
        "colab": {
          "base_uri": "https://localhost:8080/"
        },
        "outputId": "65cb040d-64c1-4753-9949-b0c0450d2e29"
      },
      "source": [
        "bcancer.data = pd.DataFrame(bcancer.data, columns=bcancer.feature_names) #converting numpy array -> pandas DataFrame\n",
        "bcancer.target = pd.Series(bcancer.target) #converting numpy array -> pandas Series\n",
        "bcancer.target = bcancer.target.to_frame() #converting Pandas series to dataframe\n",
        "print('Shape of the feature table: ' + str(bcancer.data.shape))\n",
        "print('Shape of the target array: ' + str(bcancer.target.shape))\n"
      ],
      "execution_count": 5,
      "outputs": [
        {
          "output_type": "stream",
          "name": "stdout",
          "text": [
            "Shape of the feature table: (569, 30)\n",
            "Shape of the target array: (569, 1)\n"
          ]
        }
      ]
    },
    {
      "cell_type": "markdown",
      "source": [
        "# Normalizing"
      ],
      "metadata": {
        "id": "pkU8PIXh92Wp"
      }
    },
    {
      "cell_type": "code",
      "source": [
        "from sklearn.preprocessing import MinMaxScaler\n",
        "# define min max scaler\n",
        "scaler = MinMaxScaler()\n",
        "bcancer.data_std = scaler.fit_transform(bcancer.data)\n",
        "bcancer.data_std = pd.DataFrame(bcancer.data_std)\n",
        "\n",
        "features = bcancer.data_std.iloc[:,:]\n",
        "target = bcancer.target"
      ],
      "metadata": {
        "id": "FgZIxu1W94ZR"
      },
      "execution_count": 6,
      "outputs": []
    },
    {
      "cell_type": "markdown",
      "source": [
        "# Training and Testing"
      ],
      "metadata": {
        "id": "on3YtA8G1Kzd"
      }
    },
    {
      "cell_type": "code",
      "source": [
        "#we want to have the same proportion of classes in both train and validation sets\n",
        "from sklearn.model_selection import StratifiedShuffleSplit\n",
        "\n",
        "#building a StratifiedShuffleSplit object (sss among friends) with 20% data\n",
        "#assigned to validation set (here called \"test\")\n",
        "sss = StratifiedShuffleSplit(n_splits=1, test_size=0.2, random_state=0)\n",
        "\n",
        "#the .split() method returns (an iterable over) two lists which can be\n",
        "#used to index the samples that go into train and validation sets\n",
        "for train_index, val_index in sss.split(features, target):\n",
        "    features_train = features.iloc[train_index, :]\n",
        "    features_val   = features.iloc[val_index, :]\n",
        "    target_train   = target.iloc[train_index,:]\n",
        "    target_val     = target.iloc[val_index,:]\n",
        "    \n",
        "#let's print some shapes to get an idea of the resulting data structure\n",
        "print(\"Training features size: \", features_train.shape)\n",
        "print(\"Test features size: \", features_val.shape)\n",
        "print(\"Training targets size: \", target_train.shape)\n",
        "print(\"Test targets size: \", target_val.shape)\n",
        "\n",
        "print(\"Type of the training features object: \", type(features_train))\n",
        "print(\"Type of the training targets object: \", type(target_train))"
      ],
      "metadata": {
        "id": "Vup_XTal1Ots"
      },
      "execution_count": null,
      "outputs": []
    },
    {
      "cell_type": "markdown",
      "source": [
        "# Neural network model"
      ],
      "metadata": {
        "id": "rXSfr9YH4MQ3"
      }
    },
    {
      "cell_type": "code",
      "source": [
        "## # Configuration options\n",
        "input_shape = (features.shape[1],) ## tuple that specifies the number of features \n",
        "hidden_nodes = 8\n",
        "hidden_activation = 'relu'\n",
        "output_activation = 'sigmoid'\n",
        "loss_function = 'binary_crossentropy'\n",
        "optimizer_used = 'SGD' ##stochastic gradient descent\n",
        "num_epochs = 200\n",
        "print(input_shape)"
      ],
      "metadata": {
        "id": "STkohP5H4PeA",
        "outputId": "ed503169-084a-4dec-db61-24bc268a3b58",
        "colab": {
          "base_uri": "https://localhost:8080/"
        }
      },
      "execution_count": 8,
      "outputs": [
        {
          "output_type": "stream",
          "name": "stdout",
          "text": [
            "(30,)\n"
          ]
        }
      ]
    },
    {
      "cell_type": "markdown",
      "source": [],
      "metadata": {
        "id": "kc4isW807OOJ"
      }
    },
    {
      "cell_type": "code",
      "source": [
        "#we are building a \"sequential\" model, meaning that the data will \n",
        "#flow like INPUT -> ELABORATION -> OUTPUT.\n",
        "from keras.models import Sequential\n",
        "\n",
        "#a \"dense\" layer is a layer were all the data coming in are connected\n",
        "#to all nodes.\n",
        "from keras.layers import Dense\n",
        "\n",
        "\n",
        "# binary classification shallow neural network model in Keras\n",
        "model = Sequential()\n",
        "model.add(Dense(units=hidden_nodes, input_shape=input_shape, activation=hidden_activation))\n",
        "model.add(Dense(8, activation=hidden_activation))\n",
        "model.add(Dense(5, activation=hidden_activation))\n",
        "model.add(Dense(3, activation=hidden_activation))\n",
        "model.add(Dense(1, activation=output_activation))\n",
        "\n",
        "#the model is declared, but we still need to compile it to actually\n",
        "#build all the data structures\n",
        "model.compile(optimizer=optimizer_used, loss=loss_function)\n",
        "print(model.summary())"
      ],
      "metadata": {
        "id": "7k6Cbbwr41Mz",
        "outputId": "7dfa5ca0-59f5-4add-eac5-4d70a197bdfd",
        "colab": {
          "base_uri": "https://localhost:8080/"
        }
      },
      "execution_count": 9,
      "outputs": [
        {
          "output_type": "stream",
          "name": "stdout",
          "text": [
            "Model: \"sequential\"\n",
            "_________________________________________________________________\n",
            " Layer (type)                Output Shape              Param #   \n",
            "=================================================================\n",
            " dense (Dense)               (None, 8)                 248       \n",
            "                                                                 \n",
            " dense_1 (Dense)             (None, 8)                 72        \n",
            "                                                                 \n",
            " dense_2 (Dense)             (None, 5)                 45        \n",
            "                                                                 \n",
            " dense_3 (Dense)             (None, 3)                 18        \n",
            "                                                                 \n",
            " dense_4 (Dense)             (None, 1)                 4         \n",
            "                                                                 \n",
            "=================================================================\n",
            "Total params: 387\n",
            "Trainable params: 387\n",
            "Non-trainable params: 0\n",
            "_________________________________________________________________\n",
            "None\n"
          ]
        }
      ]
    },
    {
      "cell_type": "code",
      "source": [
        "history = model.fit(features_train, target_train, epochs=num_epochs, validation_data=(features_val, target_val), verbose=0)\n",
        "def plot_loss_history(h, title):\n",
        "    plt.plot(h.history['loss'], label = \"Train loss\")\n",
        "    plt.plot(h.history['val_loss'], label = \"Validation loss\")\n",
        "    plt.xlabel('Epochs')\n",
        "    plt.title(title)\n",
        "    plt.legend()\n",
        "    plt.show()\n",
        "\n",
        "plot_loss_history(history, 'Logistic ({} epochs)'.format(num_epochs))"
      ],
      "metadata": {
        "id": "5sH4U7qK7Px4",
        "outputId": "ba0170fc-23b0-46e4-f429-78671e45cd60",
        "colab": {
          "base_uri": "https://localhost:8080/",
          "height": 295
        }
      },
      "execution_count": 10,
      "outputs": [
        {
          "output_type": "display_data",
          "data": {
            "text/plain": [
              "<Figure size 432x288 with 1 Axes>"
            ],
            "image/png": "[encoded data removed]"
          },
          "metadata": {
            "needs_background": "light"
          }
        }
      ]
    },
    {
      "cell_type": "code",
      "source": [
        "from sklearn.metrics import confusion_matrix\n",
        "predictions = model.predict(features_val)\n",
        "predicted_labels = np.where(predictions > 0.5, \"virginica\", \"non-virginica\")\n",
        "target_labels = target_val.to_numpy().reshape((len(target_val),1))\n",
        "target_labels = np.where(target_labels > 0.5, \"virginica\", \"non-virginica\")\n",
        "\n",
        "con_mat_df = confusion_matrix(target_labels, predicted_labels, labels=[\"non-virginica\",\"virginica\"])\n",
        "print(con_mat_df)\n",
        "\n",
        "import seaborn as sn\n",
        "\n",
        "figure = plt.figure(figsize=(8, 8))\n",
        "sn.heatmap(con_mat_df, annot=True,cmap=plt.cm.Blues)\n",
        "plt.tight_layout()\n",
        "plt.ylabel('True label')\n",
        "plt.xlabel('Predicted label')\n",
        "plt.show()\n",
        "Counter(target_val[0])"
      ],
      "metadata": {
        "id": "85dFdIBH8AxP",
        "outputId": "ea45dda3-2a45-4e32-8d6a-3ce69bec0960",
        "colab": {
          "base_uri": "https://localhost:8080/",
          "height": 651
        }
      },
      "execution_count": 11,
      "outputs": [
        {
          "output_type": "stream",
          "name": "stdout",
          "text": [
            "[[39  3]\n",
            " [ 0 72]]\n"
          ]
        },
        {
          "output_type": "display_data",
          "data": {
            "text/plain": [
              "<Figure size 576x576 with 2 Axes>"
            ],
            "image/png": "[encoded data removed]"
          },
          "metadata": {
            "needs_background": "light"
          }
        },
        {
          "output_type": "execute_result",
          "data": {
            "text/plain": [
              "Counter({0: 42, 1: 72})"
            ]
          },
          "metadata": {},
          "execution_count": 11
        }
      ]
    },
    {
      "cell_type": "code",
      "source": [
        "\n"
      ],
      "metadata": {
        "id": "TjqzJGZFWpq_",
        "outputId": "f3ceadfe-aea4-4871-8c55-ffc472ba8f21",
        "colab": {
          "base_uri": "https://localhost:8080/"
        }
      },
      "execution_count": null,
      "outputs": [
        {
          "output_type": "execute_result",
          "data": {
            "text/plain": [
              "Counter({0: 42, 1: 72})"
            ]
          },
          "metadata": {},
          "execution_count": 24
        }
      ]
    }
  ]
}